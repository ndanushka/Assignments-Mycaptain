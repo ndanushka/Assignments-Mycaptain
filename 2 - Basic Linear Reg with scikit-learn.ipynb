{
 "cells": [
  {
   "cell_type": "markdown",
   "metadata": {},
   "source": [
    "### Basic Linear Regression with scikit-learn\n",
    "\n",
    "In our previous example, we just \"guessed\" the correct parameters of our regression, and we were able to predict Rose's and Laurie's house prices based on that. But, it's impossible to just \"guess\" the parameters in real life, and that's what Machine Learning is about. In this example, we'll use `scikit-learn` to find the correct parameters of our model. Let's start with imports and our training data again:"
   ]
  },
  {
   "cell_type": "code",
   "execution_count": 1,
   "metadata": {},
   "outputs": [],
   "source": [
    "import numpy as np\n",
    "import matplotlib.pyplot as plt\n",
    "from matplotlib import collections as matcoll\n",
    "\n",
    "from sklearn.linear_model import LinearRegression\n",
    "from sklearn.metrics import mean_squared_error\n",
    "\n",
    "%matplotlib inline"
   ]
  },
  {
   "cell_type": "code",
   "execution_count": 9,
   "metadata": {},
   "outputs": [
    {
     "name": "stdout",
     "output_type": "stream",
     "text": [
      "Features [[1]\n",
      " [2]\n",
      " [3]\n",
      " [4]]\n",
      "Prices [ 3  6 10 11]\n",
      "Flatten_Structure [1 2 3 4]\n"
     ]
    }
   ],
   "source": [
    "train_features = np.array([  # No. of bedrooms\n",
    "    [1],\n",
    "    [2],\n",
    "    [3],\n",
    "    [4],\n",
    "])\n",
    "\n",
    "print(\"Features\", train_features)\n",
    "\n",
    "train_prices = np.array([3, 6, 10, 11])  # Price of each house\n",
    "print(\"Prices\", train_prices)\n",
    "\n",
    "X = train_features.flatten()  # A flat version of our features for later usage\n",
    "print(\"Flatten_Structure\", X)"
   ]
  },
  {
   "cell_type": "code",
   "execution_count": 3,
   "metadata": {},
   "outputs": [
    {
     "data": {
      "text/plain": [
       "LinearRegression(copy_X=True, fit_intercept=True, n_jobs=None, normalize=False)"
      ]
     },
     "execution_count": 3,
     "metadata": {},
     "output_type": "execute_result"
    }
   ],
   "source": [
    "lr = LinearRegression()\n",
    "\n",
    "lr.fit(train_features, train_prices)"
   ]
  },
  {
   "cell_type": "markdown",
   "metadata": {},
   "source": [
    "**That's it!** You've trained your first machine learning model. Let's unveil the parameters of our function:"
   ]
  },
  {
   "cell_type": "code",
   "execution_count": 4,
   "metadata": {},
   "outputs": [
    {
     "data": {
      "text/plain": [
       "2.800000000000001"
      ]
     },
     "execution_count": 4,
     "metadata": {},
     "output_type": "execute_result"
    }
   ],
   "source": [
    "slope = lr.coef_[0]\n",
    "slope"
   ]
  },
  {
   "cell_type": "code",
   "execution_count": 5,
   "metadata": {},
   "outputs": [
    {
     "data": {
      "text/plain": [
       "0.49999999999999734"
      ]
     },
     "execution_count": 5,
     "metadata": {},
     "output_type": "execute_result"
    }
   ],
   "source": [
    "intercept = lr.intercept_\n",
    "intercept"
   ]
  },
  {
   "cell_type": "markdown",
   "metadata": {},
   "source": [
    "And how does it look compared to our real data?"
   ]
  },
  {
   "cell_type": "code",
   "execution_count": 12,
   "metadata": {},
   "outputs": [
    {
     "data": {
      "text/plain": [
       "[<matplotlib.lines.Line2D at 0x1cf8f653da0>]"
      ]
     },
     "execution_count": 12,
     "metadata": {},
     "output_type": "execute_result"
    },
    {
     "data": {
      "image/png": "[encoded data removed]",
      "text/plain": [
       "<Figure size 648x216 with 1 Axes>"
      ]
     },
     "metadata": {
      "needs_background": "light"
     },
     "output_type": "display_data"
    }
   ],
   "source": [
    "plt.figure(1, figsize=(9, 3))\n",
    "\n",
    "plt.scatter(train_features, train_prices, marker='x', color='r')\n",
    "plt.ylabel('Prices')\n",
    "plt.xlabel('Number of bedrooms')\n",
    "plt.title('Training Data')\n",
    "\n",
    "plt.plot(train_features.flatten(), [x * slope + intercept for x in X], 'g--')"
   ]
  },
  {
   "cell_type": "markdown",
   "metadata": {},
   "source": [
    "It looks reasonably good, right? Let's now predict Rose's and Laurie's house prices.\n",
    "\n",
    "### Making predictions\n",
    "\n",
    "As we have the parameters `w1` and `b`, we could easily predict the price of Rose and Laurie's houses with a simple function:"
   ]
  },
  {
   "cell_type": "code",
   "execution_count": 7,
   "metadata": {},
   "outputs": [
    {
     "name": "stdout",
     "output_type": "stream",
     "text": [
      "Rose's house price prediction: 7.5\n",
      "Rose's house price prediction: 14.5\n"
     ]
    }
   ],
   "source": [
    "roses_bedrooms = 2.5\n",
    "lauries_bedrooms = 5\n",
    "print(\"Rose's house price prediction: {}\".format(roses_bedrooms * 2.8 + 0.5))\n",
    "print(\"Rose's house price prediction: {}\".format(lauries_bedrooms * 2.8 + 0.5))"
   ]
  },
  {
   "cell_type": "markdown",
   "metadata": {},
   "source": [
    "But this process becomes tedious when you have too many variables, so our `LinearRegression` models includes a `predict` method that just takes care of that for us:"
   ]
  },
  {
   "cell_type": "code",
   "execution_count": 8,
   "metadata": {},
   "outputs": [
    {
     "data": {
      "text/plain": [
       "array([ 7.5, 14.5])"
      ]
     },
     "execution_count": 8,
     "metadata": {},
     "output_type": "execute_result"
    }
   ],
   "source": [
    "lr.predict([\n",
    "    [2.5],\n",
    "    [5]\n",
    "])"
   ]
  },
  {
   "cell_type": "markdown",
   "metadata": {},
   "source": [
    "And as you can see, those are the exact same results."
   ]
  },
  {
   "cell_type": "code",
   "execution_count": null,
   "metadata": {},
   "outputs": [],
   "source": []
  },
  {
   "cell_type": "code",
   "execution_count": null,
   "metadata": {},
   "outputs": [],
   "source": []
  },
  {
   "cell_type": "code",
   "execution_count": null,
   "metadata": {},
   "outputs": [],
   "source": []
  },
  {
   "cell_type": "code",
   "execution_count": null,
   "metadata": {},
   "outputs": [],
   "source": []
  }
 ],
 "metadata": {
  "kernelspec": {
   "display_name": "Python 3",
   "language": "python",
   "name": "python3"
  },
  "language_info": {
   "codemirror_mode": {
    "name": "ipython",
    "version": 3
   },
   "file_extension": ".py",
   "mimetype": "text/x-python",
   "name": "python",
   "nbconvert_exporter": "python",
   "pygments_lexer": "ipython3",
   "version": "3.7.3"
  }
 },
 "nbformat": 4,
 "nbformat_minor": 2
}
