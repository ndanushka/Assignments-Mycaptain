{
 "cells": [
  {
   "cell_type": "code",
   "execution_count": 1,
   "metadata": {},
   "outputs": [],
   "source": [
    "#\n",
    "list1=[12,-7,5,64,-14]\n",
    "list2=[12,14,-95,3]    \n",
    "\n"
   ]
  },
  {
   "cell_type": "code",
   "execution_count": 2,
   "metadata": {},
   "outputs": [
    {
     "name": "stdout",
     "output_type": "stream",
     "text": [
      "12\n",
      "5\n",
      "64\n"
     ]
    }
   ],
   "source": [
    "\n",
    "for num in list1:\n",
    "    if num>0:\n",
    "        print(num)\n",
    "    "
   ]
  },
  {
   "cell_type": "code",
   "execution_count": 3,
   "metadata": {},
   "outputs": [
    {
     "name": "stdout",
     "output_type": "stream",
     "text": [
      "12\n",
      "14\n",
      "3\n"
     ]
    }
   ],
   "source": [
    "for num in list2:\n",
    "    if num>0:\n",
    "        print(num)"
   ]
  },
  {
   "cell_type": "code",
   "execution_count": 4,
   "metadata": {},
   "outputs": [
    {
     "name": "stdin",
     "output_type": "stream",
     "text": [
      "How many terms do you want to print the sequence for? 10\n"
     ]
    }
   ],
   "source": [
    "#Fibonaucci serise\n",
    "\n"
   ]
  },
  {
   "cell_type": "code",
   "execution_count": 6,
   "metadata": {},
   "outputs": [
    {
     "name": "stdin",
     "output_type": "stream",
     "text": [
      "How many terms do you want to print the sequence for? 10\n"
     ]
    },
    {
     "name": "stdout",
     "output_type": "stream",
     "text": [
      "The Fibonaucci sequence:\n",
      "0\n",
      "1\n",
      "1\n",
      "2\n",
      "3\n",
      "5\n",
      "8\n",
      "13\n",
      "21\n",
      "34\n"
     ]
    }
   ],
   "source": [
    "n=int(input(\"How many terms do you want to print the sequence for?\"))\n",
    "#x and y are to generate the first two terms\n",
    "x=0\n",
    "y=1\n",
    "\n",
    "z=0\n",
    "\n",
    "if n<=0:\n",
    "    print(\"Please Enter a Positive number\")\n",
    "elif n==1:\n",
    "    print(\"The Fibonacci serise upto\",n,'-')\n",
    "else:\n",
    "    print(\"The Fibonaucci sequence:\")\n",
    "    \n",
    "    while z<n:\n",
    "        print(x)\n",
    "        a=x+y\n",
    "        x=y\n",
    "        y=a\n",
    "        z=z+1\n",
    "    "
   ]
  },
  {
   "cell_type": "code",
   "execution_count": null,
   "metadata": {},
   "outputs": [],
   "source": []
  }
 ],
 "metadata": {
  "kernelspec": {
   "display_name": "Python 3",
   "language": "python",
   "name": "python3"
  },
  "language_info": {
   "codemirror_mode": {
    "name": "ipython",
    "version": 3
   },
   "file_extension": ".py",
   "mimetype": "text/x-python",
   "name": "python",
   "nbconvert_exporter": "python",
   "pygments_lexer": "ipython3",
   "version": "3.7.3"
  }
 },
 "nbformat": 4,
 "nbformat_minor": 4
}
